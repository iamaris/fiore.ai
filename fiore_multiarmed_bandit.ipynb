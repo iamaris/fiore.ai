{
  "nbformat": 4,
  "nbformat_minor": 0,
  "metadata": {
    "colab": {
      "provenance": [],
      "authorship_tag": "ABX9TyMNCUeZ5tbRXdQN1M0dVD2u"
    },
    "kernelspec": {
      "name": "python3",
      "display_name": "Python 3"
    },
    "language_info": {
      "name": "python"
    }
  },
  "cells": [
    {
      "cell_type": "code",
      "source": [
        "import numpy as np\n",
        "import pandas as pd\n",
        "import math"
      ],
      "metadata": {
        "id": "oE35jgw2OnBU"
      },
      "execution_count": 64,
      "outputs": []
    },
    {
      "cell_type": "code",
      "source": [
        "def get_data(df):\n",
        "    df = df.groupby(['Date', 'Keyword'])['Metric'].sum().reset_index()\n",
        "    df['Date'] = pd.to_datetime(df['Date'])\n",
        "    res = df.pivot(index='Date', columns='Keyword', values='Metric').sort_values(by='Date')\n",
        "    return res"
      ],
      "metadata": {
        "id": "9I1VVazsYmwN"
      },
      "execution_count": 66,
      "outputs": []
    },
    {
      "cell_type": "code",
      "source": [
        "class UCBAlgorithm:\n",
        "    def __init__(self, N, data, normalize=True):\n",
        "        self.N = N #Number of days used. The shorter the timeframe, the quicker the algorithm makes decisions, but it also increases the likelihood of errors.\n",
        "        self.data = data #data\n",
        "        self.d = data.shape[1] #number of options (keywords)\n",
        "        self.normalize_data = normalize #Normalizing speeds up the algorithm's ability to select winners, but it also raises the chances of declaring too early.\n",
        "        self.keywords_selected = 0\n",
        "\n",
        "    def normalize(self):\n",
        "        return self.data.apply(lambda x: (x>self.data.mean(axis=1))*1)\n",
        "\n",
        "    def run(self):\n",
        "        keywords_selected = []\n",
        "        numbers_of_selections = [0] * self.d\n",
        "        sums_of_reward = [0] * self.d\n",
        "        total_reward = 0\n",
        "\n",
        "        if self.normalize_data:\n",
        "            data = self.normalize()\n",
        "        else:\n",
        "            data = self.data\n",
        "\n",
        "        for n in range(0, self.N):\n",
        "            kw = 0\n",
        "            max_upper_bound = 0\n",
        "            for i in range(0, self.d):\n",
        "                if (numbers_of_selections[i] > 0):\n",
        "                    average_reward = sums_of_reward[i] / numbers_of_selections[i]\n",
        "                    delta_i = math.sqrt(2 * math.log(n+1) / numbers_of_selections[i])\n",
        "                    upper_bound = average_reward + delta_i\n",
        "                else:\n",
        "                    upper_bound = 1e400\n",
        "                if upper_bound > max_upper_bound:\n",
        "                    max_upper_bound = upper_bound\n",
        "                    kw = i\n",
        "            keywords_selected.append(kw)\n",
        "            numbers_of_selections[kw] += 1\n",
        "            reward = data.values[n, kw]\n",
        "            sums_of_reward[kw] += reward\n",
        "            total_reward += reward\n",
        "        self.keywords_selected = keywords_selected\n",
        "\n",
        "    def get_proportions(self):\n",
        "        result = pd.Series(self.keywords_selected).value_counts(normalize=True)\n",
        "        return result\n"
      ],
      "metadata": {
        "id": "XWd_iwMnZbjn"
      },
      "execution_count": 68,
      "outputs": []
    },
    {
      "cell_type": "code",
      "source": [
        "df = pd.read_csv('Fiore Sample Data.csv') #you can download data here: https://docs.google.com/spreadsheets/d/1rokrBuH9UD_9xSKmKwJsygBUQ__2brWIl61KqUrOuDM/edit?gid=0#gid=0\n",
        "res = get_data(df)"
      ],
      "metadata": {
        "id": "FPfeCKZg8Hem"
      },
      "execution_count": 72,
      "outputs": []
    },
    {
      "cell_type": "code",
      "source": [
        "x = UCBAlgorithm(N=7, data=res)"
      ],
      "metadata": {
        "id": "pghS5SE2jhPg"
      },
      "execution_count": 73,
      "outputs": []
    },
    {
      "cell_type": "code",
      "source": [
        "x.run()"
      ],
      "metadata": {
        "id": "hja1rDp1jjhK"
      },
      "execution_count": 74,
      "outputs": []
    },
    {
      "cell_type": "code",
      "source": [
        "x.get_proportions()"
      ],
      "metadata": {
        "colab": {
          "base_uri": "https://localhost:8080/",
          "height": 178
        },
        "id": "0uzDUZc0oBva",
        "outputId": "d9deb283-4d12-40fe-a75e-5a24b9fac4cf"
      },
      "execution_count": 75,
      "outputs": [
        {
          "output_type": "execute_result",
          "data": {
            "text/plain": [
              "1    0.714286\n",
              "0    0.142857\n",
              "2    0.142857\n",
              "Name: proportion, dtype: float64"
            ],
            "text/html": [
              "<div>\n",
              "<style scoped>\n",
              "    .dataframe tbody tr th:only-of-type {\n",
              "        vertical-align: middle;\n",
              "    }\n",
              "\n",
              "    .dataframe tbody tr th {\n",
              "        vertical-align: top;\n",
              "    }\n",
              "\n",
              "    .dataframe thead th {\n",
              "        text-align: right;\n",
              "    }\n",
              "</style>\n",
              "<table border=\"1\" class=\"dataframe\">\n",
              "  <thead>\n",
              "    <tr style=\"text-align: right;\">\n",
              "      <th></th>\n",
              "      <th>proportion</th>\n",
              "    </tr>\n",
              "  </thead>\n",
              "  <tbody>\n",
              "    <tr>\n",
              "      <th>1</th>\n",
              "      <td>0.714286</td>\n",
              "    </tr>\n",
              "    <tr>\n",
              "      <th>0</th>\n",
              "      <td>0.142857</td>\n",
              "    </tr>\n",
              "    <tr>\n",
              "      <th>2</th>\n",
              "      <td>0.142857</td>\n",
              "    </tr>\n",
              "  </tbody>\n",
              "</table>\n",
              "</div><br><label><b>dtype:</b> float64</label>"
            ]
          },
          "metadata": {},
          "execution_count": 75
        }
      ]
    },
    {
      "cell_type": "markdown",
      "source": [],
      "metadata": {
        "id": "QU-uy3C8wah6"
      }
    },
    {
      "cell_type": "markdown",
      "source": [
        "Using the first 7 days of the sample dataset. This tells us to give more preference to keyword1.\n",
        "\n"
      ],
      "metadata": {
        "id": "KB2WL5wxvGPY"
      }
    },
    {
      "cell_type": "code",
      "source": [
        "z = UCBAlgorithm(7, res, False)"
      ],
      "metadata": {
        "id": "JfMh_iRup4a6"
      },
      "execution_count": 56,
      "outputs": []
    },
    {
      "cell_type": "code",
      "source": [
        "z.run()"
      ],
      "metadata": {
        "id": "O5UAVGfFjsCq"
      },
      "execution_count": 57,
      "outputs": []
    },
    {
      "cell_type": "markdown",
      "source": [],
      "metadata": {
        "id": "XlSE6IsgxRuP"
      }
    },
    {
      "cell_type": "code",
      "source": [
        "z.get_proportions()"
      ],
      "metadata": {
        "colab": {
          "base_uri": "https://localhost:8080/",
          "height": 178
        },
        "id": "QTPvu8Kzrgji",
        "outputId": "1f16d032-849c-4dc8-ead4-61f70b908e27"
      },
      "execution_count": 58,
      "outputs": [
        {
          "output_type": "execute_result",
          "data": {
            "text/plain": [
              "1    0.571429\n",
              "2    0.285714\n",
              "0    0.142857\n",
              "Name: proportion, dtype: float64"
            ],
            "text/html": [
              "<div>\n",
              "<style scoped>\n",
              "    .dataframe tbody tr th:only-of-type {\n",
              "        vertical-align: middle;\n",
              "    }\n",
              "\n",
              "    .dataframe tbody tr th {\n",
              "        vertical-align: top;\n",
              "    }\n",
              "\n",
              "    .dataframe thead th {\n",
              "        text-align: right;\n",
              "    }\n",
              "</style>\n",
              "<table border=\"1\" class=\"dataframe\">\n",
              "  <thead>\n",
              "    <tr style=\"text-align: right;\">\n",
              "      <th></th>\n",
              "      <th>proportion</th>\n",
              "    </tr>\n",
              "  </thead>\n",
              "  <tbody>\n",
              "    <tr>\n",
              "      <th>1</th>\n",
              "      <td>0.571429</td>\n",
              "    </tr>\n",
              "    <tr>\n",
              "      <th>2</th>\n",
              "      <td>0.285714</td>\n",
              "    </tr>\n",
              "    <tr>\n",
              "      <th>0</th>\n",
              "      <td>0.142857</td>\n",
              "    </tr>\n",
              "  </tbody>\n",
              "</table>\n",
              "</div><br><label><b>dtype:</b> float64</label>"
            ]
          },
          "metadata": {},
          "execution_count": 58
        }
      ]
    },
    {
      "cell_type": "markdown",
      "source": [
        "Using the first 7 days of the sample dataset, we see that we should give more preference to keyword1. Since we are not normalizing the dataset, our estimate is more conservative. Not normalizing is a better option if you want to wait longer and ensure you're truly selecting the better keyword in the long run."
      ],
      "metadata": {
        "id": "zxF__RyZwqu_"
      }
    }
  ]
}